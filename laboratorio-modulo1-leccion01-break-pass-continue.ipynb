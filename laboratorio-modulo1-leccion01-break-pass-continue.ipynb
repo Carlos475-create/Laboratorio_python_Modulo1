{
 "cells": [
  {
   "cell_type": "markdown",
   "metadata": {},
   "source": [
    "\n",
    "<div style=\"text-align: center;\">\n",
    "  <img src=\"https://github.com/Hack-io-Data/Imagenes/blob/main/01-LogosHackio/logo_celeste@4x.png?raw=true\" alt=\"esquema\" />\n",
    "</div>\n"
   ]
  },
  {
   "cell_type": "markdown",
   "metadata": {},
   "source": [
    "# Laboratorio de Python: break(), pass(), continue()"
   ]
  },
  {
   "cell_type": "markdown",
   "metadata": {},
   "source": [
    "## Ejercicio 1: Validación de datos numéricos. \n",
    "\n",
    "Escribe un bucle que lea una lista de números y detenga la ejecución si encuentra un valor negativo. Muestra un mensaje indicando el número negativo encontrado.\n"
   ]
  },
  {
   "cell_type": "code",
   "execution_count": 73,
   "metadata": {},
   "outputs": [
    {
     "name": "stdout",
     "output_type": "stream",
     "text": [
      "3\n",
      "4\n",
      "5\n",
      "2\n",
      "-1\n",
      "El código se ha detenido porque ha encontrado el número -1\n"
     ]
    }
   ],
   "source": [
    "lista1 = [3, 4, 5, 2, -1, 5, 7, 2, 5, 6]\n",
    "\n",
    "for i in lista1:\n",
    "    print(i)\n",
    "    if i < 0:\n",
    "        print(f\"El código se ha detenido porque ha encontrado el número {i}\")\n",
    "        break"
   ]
  },
  {
   "cell_type": "markdown",
   "metadata": {},
   "source": [
    "\n",
    "## Ejercicio 2: Filtrado de datos\n",
    "\n",
    "Escribe un bucle que imprima los números de una lista, pero que omita los números pares.\n"
   ]
  },
  {
   "cell_type": "code",
   "execution_count": 2,
   "metadata": {},
   "outputs": [
    {
     "name": "stdout",
     "output_type": "stream",
     "text": [
      "5\n",
      "7\n",
      "23\n",
      "7\n"
     ]
    }
   ],
   "source": [
    "lista2 = [2, 4, 5, 7, 8, 23, 8, 4, 7, 4, 2]\n",
    "\n",
    "for i in lista2:\n",
    "    if i % 2 == 0:\n",
    "        pass\n",
    "    else:\n",
    "        print(i)\n"
   ]
  },
  {
   "cell_type": "markdown",
   "metadata": {},
   "source": [
    "## Ejercicio 3: Búsqueda de un valor\n",
    "\n",
    "Escribe un programa que busque un valor específico en una lista y detenga la búsqueda cuando lo encuentre. Si se encuentra, muestra un mensaje.\n"
   ]
  },
  {
   "cell_type": "code",
   "execution_count": 3,
   "metadata": {},
   "outputs": [
    {
     "name": "stdout",
     "output_type": "stream",
     "text": [
      "3\n",
      "4\n",
      "3\n",
      "π\n",
      "El programa ha encontrado π\n"
     ]
    }
   ],
   "source": [
    "lista3 = [3, 4, 3, \"π\", 2, 1]\n",
    "\n",
    "for i in lista3:\n",
    "    print(i)\n",
    "    if i == \"π\":\n",
    "        print(\"El programa ha encontrado π\")\n",
    "        break"
   ]
  },
  {
   "cell_type": "markdown",
   "metadata": {},
   "source": [
    "## Ejercicio 4: Estructura de código incompleto\n",
    "\n",
    "Define una función que aún no tenga lógica implementada, pero que se pueda ejecutar sin errores utilizando `pass`."
   ]
  },
  {
   "cell_type": "code",
   "execution_count": 28,
   "metadata": {},
   "outputs": [],
   "source": [
    "def control_peso(peso):\n",
    "    if peso > 90:\n",
    "        print(\"Sobrepeso\")\n",
    "    elif 60 < peso < 90:\n",
    "        print(\"Peso ideal\")\n",
    "    else:\n",
    "        print(\"Estás caquéctic@, come algo\")\n",
    "    pass"
   ]
  },
  {
   "cell_type": "markdown",
   "metadata": {},
   "source": [
    "## Ejercicio 5: Validación condicional\n",
    "\n",
    "Escribe un bucle que verifique una lista de nombres. Si encuentra un nombre vacío (cadena vacía), salta esa iteración y continúa con los demás nombres.\n"
   ]
  },
  {
   "cell_type": "code",
   "execution_count": 5,
   "metadata": {},
   "outputs": [
    {
     "name": "stdout",
     "output_type": "stream",
     "text": [
      "Kenza\n",
      "Carlos\n",
      "Pedro\n",
      "Hedi\n",
      "Renate\n"
     ]
    }
   ],
   "source": [
    "lista_nombres = [\"Kenza\", \"Carlos\", \"Pedro\", \"Hedi\", \"\", \"Renate\"]\n",
    "\n",
    "for nombre in lista_nombres:\n",
    "    if nombre == \"\":\n",
    "        continue\n",
    "    print(nombre)"
   ]
  },
  {
   "cell_type": "markdown",
   "metadata": {},
   "source": [
    "## Ejercicio 6: Búsqueda de claves en un diccionario\n",
    "\n",
    "Escribe un programa que recorra un diccionario y detenga la búsqueda si encuentra una clave específica pasada por el usuario.\n"
   ]
  },
  {
   "cell_type": "code",
   "execution_count": 6,
   "metadata": {},
   "outputs": [
    {
     "name": "stdout",
     "output_type": "stream",
     "text": [
      "La clave es: nombre y el valor asignado es: Carlos\n",
      "La clave es: edad y el valor asignado es: 25\n",
      "La clave es: domicilio y el valor asignado es: Maspalomas\n",
      "La clave es: coche y el valor asignado es: no\n",
      "La clave es: calle y el valor asignado es: ancha\n"
     ]
    }
   ],
   "source": [
    "diccionario1 = {\n",
    "    \"nombre\": \"Carlos\",\n",
    "    \"edad\": 25,\n",
    "    \"domicilio\": \"Maspalomas\",\n",
    "    \"coche\": \"no\",\n",
    "    \"calle\": \"ancha\",\n",
    "    \"mascota\": \"Laika\"\n",
    "}\n",
    "\n",
    "clave_buscada = input(\"Introduzca la clave que desee: \")\n",
    "\n",
    "\n",
    "for clave, valor in diccionario1.items():\n",
    "   if clave == clave_buscada:\n",
    "    break\n",
    "   print(f\"La clave es: {clave} y el valor asignado es: {valor}\")"
   ]
  },
  {
   "cell_type": "markdown",
   "metadata": {},
   "source": [
    "## Ejercicio 7: Bucle con múltiples excepciones\n",
    "\n",
    "Escribe un bucle que procese una lista de operaciones matemáticas, omitiendo las operaciones que intenten dividir por cero.\n"
   ]
  },
  {
   "cell_type": "code",
   "execution_count": 72,
   "metadata": {},
   "outputs": [
    {
     "name": "stdout",
     "output_type": "stream",
     "text": [
      "El resultado de la division es:0.6666666666666666\n",
      "No puede dividir entre 0\n",
      "El resultado de la division es:1.0\n"
     ]
    }
   ],
   "source": [
    "operaciones_matemáticas = [(2, 3), (2,  0), (4,  4)]\n",
    "\n",
    "for dividendo, divisor in operaciones_matemáticas:\n",
    "    if divisor == 0:\n",
    "        print(\"No puede dividir entre 0\")\n",
    "        continue\n",
    "    resultado = dividendo / divisor\n",
    "\n",
    "    print(f\"El resultado de la division es:{resultado}\")"
   ]
  },
  {
   "cell_type": "markdown",
   "metadata": {},
   "source": [
    "## Ejercicio 8: Búsqueda en una lista anidada\n",
    "\n",
    "Escribe un programa que recorra una lista de listas y detenga la búsqueda cuando encuentre un valor mayor a 50.\n"
   ]
  },
  {
   "cell_type": "code",
   "execution_count": 7,
   "metadata": {},
   "outputs": [
    {
     "name": "stdout",
     "output_type": "stream",
     "text": [
      "Valor mayor de 50 encontrado 51\n",
      "Valor mayor de 50 encontrado 55\n"
     ]
    }
   ],
   "source": [
    "lista_valor_50 = [[2, 3], [49, 38], [23, 43, 49.9], [28, 51, 3], [32, 55]]\n",
    "\n",
    "for i in lista_valor_50:\n",
    "    for j in i:\n",
    "        if j > 50:\n",
    "            print(f\"Valor mayor de 50 encontrado {j}\")\n",
    "            break\n",
    "        else:\n",
    "            continue\n",
    "        break\n"
   ]
  },
  {
   "cell_type": "markdown",
   "metadata": {},
   "source": [
    "## Ejercicio 9: Evaluación de series temporales\n",
    "\n",
    "Escribe un programa que recorra una lista de datos de series temporales y se detenga si encuentra un valor atípico (mayor a 100).\n"
   ]
  },
  {
   "cell_type": "code",
   "execution_count": 35,
   "metadata": {},
   "outputs": [
    {
     "name": "stdout",
     "output_type": "stream",
     "text": [
      "('01-01-1900', 85)\n",
      "('02-01-1900', 93)\n",
      "('03-01-1900', 70)\n"
     ]
    }
   ],
   "source": [
    "humedad = [\n",
    "    (\"01-01-1900\", 85),\n",
    "    (\"02-01-1900\", 93),\n",
    "    (\"03-01-1900\", 70),\n",
    "    (\"04-01-1900\", 102),\n",
    "    (\"05-01-1900\", 90)\n",
    "]\n",
    "for i in humedad:\n",
    "    if i[1] > 100:\n",
    "        break\n",
    "    print(i)"
   ]
  },
  {
   "cell_type": "markdown",
   "metadata": {},
   "source": [
    "## Ejercicio 10: Iteración con valores faltantes\n",
    "\n",
    "Crea un bucle que recorra una lista de datos de ventas y salte los valores faltantes representados por `None`."
   ]
  },
  {
   "cell_type": "code",
   "execution_count": 66,
   "metadata": {},
   "outputs": [
    {
     "name": "stdout",
     "output_type": "stream",
     "text": [
      "('2024-11-01', 50, 15.0)\n",
      "('2024-11-02', 45, 15.5)\n",
      "('2024-11-03', 60, 14.8)\n",
      "('2024-11-04', 55, 15.2)\n",
      "('2024-11-06', 70, 14.5)\n",
      "('2024-11-08', 80, 15.3)\n",
      "('2024-11-09', 75, 15.0)\n"
     ]
    }
   ],
   "source": [
    "ventas = [\n",
    "    ('2024-11-01', 50, 15.0),  # (Fecha, Cantidad vendida, Precio por unidad)\n",
    "    ('2024-11-02', 45, 15.5),\n",
    "    ('2024-11-03', 60, 14.8),\n",
    "    ('2024-11-04', 55, 15.2),\n",
    "    ('2024-11-05', None, 15.1),\n",
    "    ('2024-11-06', 70, 14.5),\n",
    "    ('2024-11-07', 65, None),\n",
    "    ('2024-11-08', 80, 15.3),\n",
    "    ('2024-11-09', 75, 15.0),\n",
    "    (None, 90, 14.7),\n",
    "]\n",
    "for i in ventas:\n",
    "    if i [0] == None or i[1] == None or i[2] == None:\n",
    "        continue\n",
    "    print(i)\n"
   ]
  },
  {
   "cell_type": "markdown",
   "metadata": {},
   "source": [
    "## Ejercicio 11: Control de flujo en bucles anidados\n",
    "\n",
    "Escribe un bucle que recorra la matriz dada y se detenga si se encuentra un número negativo, mostrando su posición.\n",
    "\n"
   ]
  },
  {
   "cell_type": "code",
   "execution_count": 64,
   "metadata": {},
   "outputs": [
    {
     "name": "stdout",
     "output_type": "stream",
     "text": [
      "1\n",
      "2\n",
      "3\n",
      "4\n",
      "5\n",
      "6\n",
      "7\n"
     ]
    }
   ],
   "source": [
    "matriz = [\n",
    "    [1, 2, 3],\n",
    "    [4, 5, 6],\n",
    "    [7, -8, 9]\n",
    "]\n",
    "\n",
    "for i in matriz:\n",
    "    for j in i:\n",
    "        if j < 0:\n",
    "            break\n",
    "        print(j)"
   ]
  }
 ],
 "metadata": {
  "kernelspec": {
   "display_name": "Python 3",
   "language": "python",
   "name": "python3"
  },
  "language_info": {
   "codemirror_mode": {
    "name": "ipython",
    "version": 3
   },
   "file_extension": ".py",
   "mimetype": "text/x-python",
   "name": "python",
   "nbconvert_exporter": "python",
   "pygments_lexer": "ipython3",
   "version": "3.12.5"
  }
 },
 "nbformat": 4,
 "nbformat_minor": 2
}
