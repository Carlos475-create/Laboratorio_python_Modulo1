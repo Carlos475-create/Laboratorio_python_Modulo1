{
 "cells": [
  {
   "cell_type": "markdown",
   "metadata": {},
   "source": [
    "\n",
    "<div style=\"text-align: center;\">\n",
    "  <img src=\"https://github.com/Hack-io-Data/Imagenes/blob/main/01-LogosHackio/logo_celeste@4x.png?raw=true\" alt=\"esquema\" />\n",
    "</div>\n"
   ]
  },
  {
   "cell_type": "markdown",
   "metadata": {},
   "source": [
    "# Laboratorio de Python: manejo de errores."
   ]
  },
  {
   "cell_type": "markdown",
   "metadata": {},
   "source": [
    "## Ejercicio 1: División con manejo de excepciones\n",
    "\n",
    "Escribe un programa que pida al usuario dos números e intente dividirlos. Si el usuario ingresa un valor no numérico o intenta dividir por cero, maneja esas excepciones de manera adecuada. Asegúrate de mostrar un mensaje indicando si la división fue exitosa o no.\n"
   ]
  },
  {
   "cell_type": "code",
   "execution_count": null,
   "metadata": {},
   "outputs": [
    {
     "name": "stdout",
     "output_type": "stream",
     "text": [
      "Ha intentado realizar una división entre 0\n"
     ]
    }
   ],
   "source": [
    "dividendo_usuario = input(\"Introduzca el dividendo:\")\n",
    "divisor_usuario = input(\"Introduzca el divisor:\")\n",
    "\n",
    "try:\n",
    "\n",
    "    dividendo_usuario = int(dividendo_usuario)\n",
    "    divisor_usuario = int(divisor_usuario)\n",
    "    \n",
    "    resultado_división = dividendo_usuario / divisor_usuario\n",
    "    \n",
    "    print(f\"El dividendo es igual a {dividendo_usuario}\")\n",
    "    print(f\"El divisor es igual a {divisor_usuario}\")\n",
    "    print(f\"El resultado de la división es: {resultado_división}\")\n",
    "\n",
    "except ValueError:\n",
    "    print(\"Ha introducido un valor que no es válido\")\n",
    "\n",
    "except ZeroDivisionError:\n",
    "    print(\"Ha intentado realizar una división entre 0\")\n"
   ]
  },
  {
   "cell_type": "markdown",
   "metadata": {},
   "source": [
    "## Ejercicio 2: Acceso a archivos\n",
    "\n",
    "Escribe un programa que intente abrir un archivo llamado \"datos.txt\". Si el archivo no existe, captura la excepción y muestra un mensaje de error. Asegúrate de cerrar el archivo correctamente en la sección `finally`.\n"
   ]
  },
  {
   "cell_type": "code",
   "execution_count": null,
   "metadata": {},
   "outputs": [
    {
     "name": "stdout",
     "output_type": "stream",
     "text": [
      "El archivo  no se ha encontrado\n",
      "El codigo ha terminado\n"
     ]
    }
   ],
   "source": [
    "file_example = (\"datos.txt\")\n",
    "\n",
    "try:\n",
    "\n",
    "    with open(file_example) as file:\n",
    "        content = file.read()\n",
    "        print(content)\n",
    "\n",
    "except FileNotFoundError:\n",
    "    print(\"El archivo  no se ha encontrado\")\n",
    "\n",
    "finally:\n",
    "    print(\"El codigo ha terminado\")\n"
   ]
  },
  {
   "cell_type": "markdown",
   "metadata": {},
   "source": [
    "## Ejercicio 3: Conversión de cadenas a enteros\n",
    "\n",
    "Escribe un programa que pida una lista de números separados por comas y convierta cada valor a un número entero. Maneja las excepciones para valores que no sean convertibles y asegúrate de informar si la conversión fue exitosa o no.\n"
   ]
  },
  {
   "cell_type": "code",
   "execution_count": 31,
   "metadata": {},
   "outputs": [
    {
     "name": "stdout",
     "output_type": "stream",
     "text": [
      "Ha introducido un valor no válido\n",
      "el código se ha ejecutado\n"
     ]
    }
   ],
   "source": [
    "numero_usuario = input(\"Introduzca una lista de números:\")\n",
    "\n",
    "try:\n",
    "    lista_numeros = numero_usuario.split(\",\")\n",
    "    \n",
    "    lista_enteros = [int(num) for num in lista_numeros]\n",
    "    \n",
    "    print(lista_numeros)\n",
    "    \n",
    "except ValueError: \n",
    "    print(\"Ha introducido un valor no válido\")\n",
    "\n",
    "finally:\n",
    "    print(\"el código se ha ejecutado\")"
   ]
  },
  {
   "cell_type": "markdown",
   "metadata": {},
   "source": [
    "#### Ejercicio 4: Cálculo del promedio con manejo de excepciones\n",
    "\n",
    "Escribe una función que reciba una lista de números y calcule su promedio. Si la lista está vacía, lanza una excepción personalizada y maneja el error adecuadamente.\n"
   ]
  },
  {
   "cell_type": "code",
   "execution_count": 49,
   "metadata": {},
   "outputs": [
    {
     "name": "stdout",
     "output_type": "stream",
     "text": [
      "La lista está vacía\n",
      "Se ha ejecutado el bloque de código con éxito\n"
     ]
    }
   ],
   "source": [
    "\n",
    "try:\n",
    "    def promedio_lista(numbers: list[int]):\n",
    "        resultado_promedio = sum(numbers) / len(numbers)\n",
    "        return resultado_promedio\n",
    "\n",
    "    numero_promedio = promedio_lista([])\n",
    "\n",
    "except ZeroDivisionError:\n",
    "    print(\"La lista está vacía\")\n",
    "\n",
    "finally:\n",
    "    print(\"Se ha ejecutado el bloque de código con éxito\")"
   ]
  },
  {
   "cell_type": "markdown",
   "metadata": {},
   "source": [
    "#### Ejercicio 5: Conversión segura de números\n",
    "\n",
    "Escribe un programa que convierta una cadena a número flotante e intente realizar una operación aritmética. Si la conversión falla, maneja la excepción y continúa con el flujo normal."
   ]
  },
  {
   "cell_type": "code",
   "execution_count": 59,
   "metadata": {},
   "outputs": [
    {
     "name": "stdout",
     "output_type": "stream",
     "text": [
      "Ha introducido un valor que no es válido\n"
     ]
    }
   ],
   "source": [
    "def string_to_float(input_str):\n",
    "\n",
    "    try:\n",
    "\n",
    "        numero_flotante = float(input_str)\n",
    "        resultado = numero_flotante / 10\n",
    "  \n",
    "        return resultado\n",
    "    \n",
    "    except ValueError:\n",
    "        print(\"Ha introducido un valor que no es válido\")\n",
    "\n",
    "string_to_float(\"Hola\")\n"
   ]
  },
  {
   "cell_type": "markdown",
   "metadata": {},
   "source": [
    "#### Ejercicio 6: Acceso a claves en diccionarios\n",
    "\n",
    "Escribe un programa que intente acceder a una clave específica en un diccionario. Si la clave no existe, maneja la excepción `KeyError` y muestra un mensaje indicando el problema."
   ]
  },
  {
   "cell_type": "code",
   "execution_count": 67,
   "metadata": {},
   "outputs": [
    {
     "name": "stdout",
     "output_type": "stream",
     "text": [
      "Esta clave no existe\n"
     ]
    }
   ],
   "source": [
    "diccionario_prueba = {\n",
    "    \"nombre\": \"Pedro\",\n",
    "    \"Profesión\": \"Fontanero\",\n",
    "    \"Domicilio\": \"Calle Guayarmina\"\n",
    "}\n",
    "try:\n",
    "\n",
    "    print(diccionario_prueba[\"Edad\"])\n",
    "\n",
    "except KeyError:\n",
    "    print(\"Esta clave no existe\")"
   ]
  },
  {
   "cell_type": "markdown",
   "metadata": {},
   "source": [
    "\n",
    "#### Ejercicio 7: Verificación de entradas de usuario\n",
    "\n",
    "Escribe un programa que pida al usuario que introduzca su edad. Si el usuario ingresa un valor no numérico o un valor fuera del rango esperado (por ejemplo, menor que 0 o mayor que 120), maneja las excepciones adecuadamente."
   ]
  },
  {
   "cell_type": "code",
   "execution_count": 77,
   "metadata": {},
   "outputs": [
    {
     "name": "stdout",
     "output_type": "stream",
     "text": [
      "La edad que introducido es -12\n",
      "No puede tener edad negativa\n"
     ]
    }
   ],
   "source": [
    "edad_usuario = input(\"Introduzca su edad por favor:\")\n",
    "\n",
    "try:\n",
    "    edad_usuario = int(edad_usuario)\n",
    "    print(f\"La edad que introducido es {edad_usuario}\")\n",
    "    \n",
    "    if edad_usuario < 0:\n",
    "        print(\"No puede tener edad negativa\")\n",
    "    elif edad_usuario > 120:\n",
    "        print(\"Es imposible que tenga más de 120 años\")\n",
    "\n",
    "except ValueError:\n",
    "    print(\"Ha ingresado un valor que no es válido\")\n",
    "\n"
   ]
  },
  {
   "cell_type": "markdown",
   "metadata": {},
   "source": [
    "#### Ejercicio 8: Extracción de valores de una lista\n",
    "\n",
    "Escribe una función que intente acceder a un índice específico en una lista. Si el índice está fuera del rango, maneja la excepción `IndexError` y muestra un mensaje adecuado.\n"
   ]
  },
  {
   "cell_type": "code",
   "execution_count": 106,
   "metadata": {},
   "outputs": [],
   "source": [
    "lista_numeros2 = [0, 34, 23, 55, 36, 64]\n",
    "\n",
    "try:\n",
    "\n",
    "    def acceso_indice(numbers):\n",
    "\n",
    "        for index, number in enumerate(numbers):\n",
    "            print(index)\n",
    "except IndexError:\n",
    "    print(\"el índice está fuera de rango\")\n",
    "    \n",
    "    acceso_indice(lista_numeros2[9])"
   ]
  },
  {
   "cell_type": "code",
   "execution_count": null,
   "metadata": {},
   "outputs": [],
   "source": []
  }
 ],
 "metadata": {
  "kernelspec": {
   "display_name": "Python 3",
   "language": "python",
   "name": "python3"
  },
  "language_info": {
   "codemirror_mode": {
    "name": "ipython",
    "version": 3
   },
   "file_extension": ".py",
   "mimetype": "text/x-python",
   "name": "python",
   "nbconvert_exporter": "python",
   "pygments_lexer": "ipython3",
   "version": "3.12.5"
  }
 },
 "nbformat": 4,
 "nbformat_minor": 2
}
